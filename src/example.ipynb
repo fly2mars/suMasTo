{
 "cells": [
  {
   "cell_type": "markdown",
   "metadata": {
    "collapsed": true
   },
   "source": [
    "# Topology optimization"
   ]
  },
  {
   "cell_type": "code",
   "execution_count": 1,
   "metadata": {
    "collapsed": true
   },
   "outputs": [],
   "source": [
    "import math\n",
    "import matplotlib.pyplot as plt\n",
    "\n",
    "from loads import HalfBeam\n",
    "from constraints import DensityConstraint\n",
    "from fesolvers import CooFESolver\n",
    "from topopt import Topopt"
   ]
  },
  {
   "cell_type": "code",
   "execution_count": 2,
   "metadata": {
    "collapsed": true
   },
   "outputs": [],
   "source": [
    "%matplotlib inline"
   ]
  },
  {
   "cell_type": "code",
   "execution_count": 3,
   "metadata": {
    "collapsed": true
   },
   "outputs": [],
   "source": [
    "# material properties\n",
    "young = 1\n",
    "poisson = 0.3\n",
    "\n",
    "# constraints\n",
    "volfrac = 0.4\n",
    "xmin = 0.001\n",
    "xmax = 1.0\n",
    "\n",
    "# input parameters\n",
    "nelx = 90\n",
    "nely = 30\n",
    "\n",
    "penal = 3.0\n",
    "rmin = 5.4\n",
    "\n",
    "delta = 0.02\n",
    "loopy = math.inf"
   ]
  },
  {
   "cell_type": "code",
   "execution_count": 4,
   "metadata": {
    "collapsed": true
   },
   "outputs": [],
   "source": [
    "# loading/problem\n",
    "load = HalfBeam(nelx, nely)\n",
    "\n",
    "# constraints\n",
    "density_constraint = DensityConstraint(volume_frac = volfrac, density_min = xmin, density_max = xmax)\n",
    "\n",
    "# optimizer\n",
    "verbose = True\n",
    "fesolver = CooFESolver(verbose = verbose)\n",
    "optimizer = Topopt(fesolver, young, poisson, verbose = verbose)"
   ]
  },
  {
   "cell_type": "code",
   "execution_count": 5,
   "metadata": {},
   "outputs": [
    {
     "name": "stdout",
     "output_type": "stream",
     "text": [
      "iteration  1 , change  0.2\n",
      "iteration  2 , change  0.2\n",
      "iteration  3 , change  0.2\n",
      "iteration  4 , change  0.2\n",
      "iteration  5 , change  0.169408344479\n",
      "iteration  6 , change  0.18080088184\n",
      "iteration  7 , change  0.155346119075\n",
      "iteration  8 , change  0.156480259976\n",
      "iteration  9 , change  0.139924220675\n",
      "iteration  10 , change  0.131804365034\n",
      "iteration  11 , change  0.121528446315\n",
      "iteration  12 , change  0.109325255746\n",
      "iteration  13 , change  0.103993465727\n",
      "iteration  14 , change  0.0901770997641\n",
      "iteration  15 , change  0.0889221871478\n",
      "iteration  16 , change  0.0766082023165\n",
      "iteration  17 , change  0.0772912881703\n",
      "iteration  18 , change  0.0680987010427\n",
      "iteration  19 , change  0.0622887676222\n",
      "iteration  20 , change  0.0654621531764\n",
      "iteration  21 , change  0.0447268657848\n",
      "iteration  22 , change  0.0521088972863\n",
      "iteration  23 , change  0.0346214421616\n",
      "iteration  24 , change  0.0401058013425\n",
      "iteration  25 , change  0.0289121123403\n",
      "iteration  26 , change  0.0319672848356\n",
      "iteration  27 , change  0.025573625824\n",
      "iteration  28 , change  0.0267483632034\n",
      "iteration  29 , change  0.0229691154468\n",
      "iteration  30 , change  0.0234134196109\n",
      "iteration  31 , change  0.0208488956912\n",
      "iteration  32 , change  0.0210378322624\n",
      "iteration  33 , change  0.019034716355\n"
     ]
    }
   ],
   "source": [
    "# compute\n",
    "x = optimizer.init(load, density_constraint)\n",
    "x, loop = optimizer.layout(load, density_constraint, x, penal, rmin, delta, loopy)"
   ]
  },
  {
   "cell_type": "markdown",
   "metadata": {},
   "source": [
    "## plot\n",
    "plt.figure()\n",
    "plt.imshow(x, cmap=plt.cm.gray)\n",
    "plt.title(str(loop) + ' loops')\n",
    "plt.xticks([])\n",
    "plt.yticks([])\n",
    "plt.show()"
   ]
  },
  {
   "cell_type": "code",
   "execution_count": null,
   "metadata": {
    "collapsed": true
   },
   "outputs": [],
   "source": []
  }
 ],
 "metadata": {
  "anaconda-cloud": {},
  "kernelspec": {
   "display_name": "Python 3",
   "language": "python",
   "name": "python3"
  },
  "language_info": {
   "codemirror_mode": {
    "name": "ipython",
    "version": 3
   },
   "file_extension": ".py",
   "mimetype": "text/x-python",
   "name": "python",
   "nbconvert_exporter": "python",
   "pygments_lexer": "ipython3",
   "version": "3.6.1"
  }
 },
 "nbformat": 4,
 "nbformat_minor": 2
}
