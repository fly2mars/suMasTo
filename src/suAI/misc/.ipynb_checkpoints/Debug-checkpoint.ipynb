{
 "cells": [
  {
   "cell_type": "code",
   "execution_count": 1,
   "metadata": {
    "collapsed": true
   },
   "outputs": [],
   "source": [
    "import numpy as np"
   ]
  },
  {
   "cell_type": "code",
   "execution_count": 2,
   "metadata": {
    "collapsed": true
   },
   "outputs": [],
   "source": [
    "a = np.ones([3,3])\n",
    "b = np.ones([3,3])* 2\n"
   ]
  },
  {
   "cell_type": "code",
   "execution_count": 3,
   "metadata": {},
   "outputs": [
    {
     "name": "stdout",
     "output_type": "stream",
     "text": [
      "[[ 2.  2.  2.]\n",
      " [ 2.  2.  2.]\n",
      " [ 2.  2.  2.]]\n",
      "[[ 2.  2.  2.]\n",
      " [ 2.  2.  2.]\n",
      " [ 2.  2.  2.]]\n",
      "[[ 6.  6.  6.]\n",
      " [ 6.  6.  6.]\n",
      " [ 6.  6.  6.]]\n"
     ]
    }
   ],
   "source": [
    "c1 = a * b\n",
    "print(c1)\n",
    "c2 = np.multiply(a,b)\n",
    "print(c2)\n",
    "c3 = np.dot(a,b)\n",
    "print(c3)"
   ]
  },
  {
   "cell_type": "code",
   "execution_count": 4,
   "metadata": {},
   "outputs": [
    {
     "data": {
      "text/plain": [
       "array([[ 2.,  2.,  2.],\n",
       "       [ 2.,  2.,  2.],\n",
       "       [ 2.,  2.,  2.]])"
      ]
     },
     "execution_count": 4,
     "metadata": {},
     "output_type": "execute_result"
    }
   ],
   "source": [
    "np.multiply(a,b)"
   ]
  },
  {
   "cell_type": "code",
   "execution_count": 5,
   "metadata": {
    "collapsed": true
   },
   "outputs": [],
   "source": [
    "class ActionPool(object):\n",
    "    def __init__(self):\n",
    "        pass\n",
    "    def test(self):\n",
    "        print(\"test\")\n",
    "    def add_func(self, func):\n",
    "        f = classmethod(func)\n",
    "        setattr(self, 'ACT_'+func.__name__, func)\n",
    "    def get_acts(self):\n",
    "        func_list = dir(self)\n",
    "        func_list = [i for i in func_list if i[:4]==\"ACT_\"]\n",
    "        return func_list\n",
    "class T(object):\n",
    "    def __init__(self):\n",
    "        self.pool = ActionPool()"
   ]
  },
  {
   "cell_type": "code",
   "execution_count": 6,
   "metadata": {},
   "outputs": [
    {
     "data": {
      "text/plain": [
       "['ACT_p']"
      ]
     },
     "execution_count": 6,
     "metadata": {},
     "output_type": "execute_result"
    }
   ],
   "source": [
    "def p(info):\n",
    "    print(info)\n",
    "t = T()\n",
    "t.pool.add_func(p)\n",
    "t.pool.get_acts()"
   ]
  },
  {
   "cell_type": "code",
   "execution_count": 7,
   "metadata": {},
   "outputs": [
    {
     "data": {
      "image/png": "[encoded data removed]",
      "text/plain": [
       "<matplotlib.figure.Figure at 0x254172ce710>"
      ]
     },
     "metadata": {},
     "output_type": "display_data"
    }
   ],
   "source": [
    "#draw a sparse matrix\n",
    "import matplotlib.pyplot as plt\n",
    "from scipy.sparse import coo_matrix\n",
    "\n",
    "def plot_coo_matrix(m):\n",
    "    if not isinstance(m, coo_matrix):\n",
    "        m = coo_matrix(m)\n",
    "    fig = plt.figure()\n",
    "    ax = fig.add_subplot(111, facecolor='black')\n",
    "    ax.plot(m.col, m.row, 's', color='white', ms=2)\n",
    "    ax.set_xlim(0, m.shape[1])\n",
    "    ax.set_ylim(0, m.shape[0])\n",
    "    ax.set_aspect('equal')\n",
    "    for spine in ax.spines.values():\n",
    "        spine.set_visible(False)\n",
    "    ax.invert_yaxis()\n",
    "    ax.set_aspect('equal')\n",
    "    ax.set_xticks([])\n",
    "    ax.set_yticks([])\n",
    "    return ax\n",
    "\n",
    "import numpy as np\n",
    "from scipy.sparse import coo_matrix\n",
    "\n",
    "shape = (100000, 100000)\n",
    "rows = np.int_(np.round_(shape[0]*np.random.random(1000)))\n",
    "cols = np.int_(np.round_(shape[1]*np.random.random(1000)))\n",
    "vals = np.ones_like(rows)\n",
    "\n",
    "m = coo_matrix((vals, (rows, cols)), shape=shape)\n",
    "ax = plot_coo_matrix(m)\n",
    "plt.show()\n",
    "#ax.figure.show()"
   ]
  },
  {
   "cell_type": "markdown",
   "metadata": {},
   "source": [
    "滤波是2d/3d结构中常用的数据处理操作，但需要很多次循环获取邻域状态。这里采用空间换时间的策略，考虑到每个单元邻域中包含的邻域单元个数为：$n_n = (2 \\times r + 1)^ 2$，其中r为邻域半径（按pixel/voxel取整）。为了实现滤波的加速运算，采用一个矩阵H记录所有单元，及其邻域包含的单元。对于一个$nely \\times nelx$的矩形结构，H中共包含$nely \\times nelx \\times n_n$个元素。\n",
    "\n",
    "H中当前元素坐标[row,col]表示第row个单元与第col个单元之间的权值。\n",
    "\n",
    "预先计算更快，但应使用dense matrix计算，scipy 的sparse matrix乘法相当慢。\n",
    "注意到使用agent时，agent也可以记录邻域的权值，来增加计算速度"
   ]
  },
  {
   "cell_type": "code",
   "execution_count": 45,
   "metadata": {
    "collapsed": true
   },
   "outputs": [],
   "source": [
    "from scipy.sparse import coo_matrix\n",
    "def pre_filter(x, rmin):\n",
    "    rminf = round(rmin)\n",
    "    nely, nelx = x.shape\n",
    "    nfilter=int(nelx * nely * ((2 * rminf + 1)** 2)) \n",
    "    iH = np.zeros(nfilter)\n",
    "    jH = np.zeros(nfilter)\n",
    "    sH = np.zeros(nfilter)\n",
    "    cc = 0\n",
    "    for i in range(nelx):\n",
    "        for j in range(nely):\n",
    "            row=i*nely+j    #index order is the same as that for elements        \n",
    "            for k in range(max(i-rminf, 0), min(i+rminf+1, nelx)):\n",
    "                for l in range(max(j-rminf, 0), min(j+rminf+1, nely)):                    \n",
    "                    col = k*nely+l  #index order is the same as that for elements\n",
    "                    weight = max(0, rmin - np.sqrt((i-k)**2+(j-l)**2));\n",
    "                    iH[cc] = row\n",
    "                    jH[cc] = col\n",
    "                    sH[cc] = weight\n",
    "                    cc += 1\n",
    "    H=coo_matrix((sH,(iH,jH)),shape=(nelx*nely,nelx*nely)).tocsc()\n",
    "    Hs = H.sum(1)            \n",
    "    return H, Hs\n",
    "    \n",
    "def fast_filt(x, dc, H, Hs):   \n",
    "    nely,nelx = x.shape\n",
    "    s = nely*nelx\n",
    "    x_col = x.flatten('F').reshape([s,1])         \n",
    "    dc_col = dc.flatten('F').reshape([s,1])\n",
    "    #xdc =(x*dc).flatten('F').reshape([s,1])\n",
    "    xdc = x_col * dc_col\n",
    "    #dcf = np.dot(H.todense(),xdc) / np.multiply(Hs , x.flatten('F').reshape([s,1]))\n",
    "    #dcf = np.dot(H.todense(),xdc) / np.multiply(Hs , x_col)\n",
    "    dcf = np.dot(H.todense(),xdc)/np.multiply(Hs, x_col)\n",
    "    dc = dcf.reshape([nely,nelx], order='F')\n",
    "    return dc\n",
    "\n",
    "def filt( x, rmin, dc):\n",
    "    rminf = round(rmin)\n",
    "\n",
    "    dcn = np.zeros(x.shape)\n",
    "    nely, nelx = x.shape\n",
    "\n",
    "    for i in range(nelx):\n",
    "        for j in range(nely):\n",
    "            sum = 0.0\n",
    "            for k in range(max(i-rminf, 0), min(i+rminf+1, nelx)):\n",
    "                for l in range(max(j-rminf, 0), min(j+rminf+1, nely)):\n",
    "                    weight = max(0, rmin - np.sqrt((i-k)**2+(j-l)**2))\n",
    "                    sum = sum + weight;\n",
    "                    dcn[j,i] = dcn[j,i] + weight*x[l,k]*dc[l,k]\n",
    "\n",
    "            dcn[j,i] = dcn[j,i]/(x[j,i]*sum);\n",
    "    return dcn"
   ]
  },
  {
   "cell_type": "code",
   "execution_count": 48,
   "metadata": {},
   "outputs": [
    {
     "name": "stdout",
     "output_type": "stream",
     "text": [
      "1 loop, best of 3: 2 s per loop\n",
      "1 loop, best of 3: 4.42 s per loop\n"
     ]
    }
   ],
   "source": [
    "nelx = 300\n",
    "nely = 100\n",
    "dc = np.random.random([nely,nelx])\n",
    "x = np.random.random([nely,nelx])\n",
    "rmin = 3\n",
    "H,Hs = pre_filter(x, rmin)\n",
    "%timeit dc1 = fast_filt(x,dc,H,Hs)\n",
    "%timeit dc2 = filt( x, rmin, dc)\n",
    "#print(np.max(dc1 -dc2) < 0.001)\n",
    "\n"
   ]
  },
  {
   "cell_type": "code",
   "execution_count": 49,
   "metadata": {},
   "outputs": [
    {
     "name": "stdout",
     "output_type": "stream",
     "text": [
      "0.0\n",
      "1 loop, best of 3: 2.02 s per loop\n"
     ]
    }
   ],
   "source": [
    "nely,nelx = x.shape\n",
    "s = nely*nelx\n",
    "nely,nelx = x.shape\n",
    "s = nely*nelx\n",
    "x_col = x.flatten('F').reshape([s,1])         \n",
    "dc_col = dc.flatten('F').reshape([s,1])\n",
    "    #xdc =(x*dc).flatten('F').reshape([s,1])\n",
    "xdc1 = np.multiply(x_col, dc_col)\n",
    "xdc = x_col * dc_col\n",
    "print(np.max(xdc1 - xdc))\n",
    "#dcf = np.dot(H.todense(),xdc) / np.multiply(Hs , x.flatten('F').reshape([s,1]))\n",
    "    #dcf = np.dot(H.todense(),xdc) / np.multiply(Hs , x_col)\n",
    "%timeit dcf = np.dot(H.todense(),xdc)/np.multiply(Hs , x_col)\n",
    "#dcf = np.dot(H,xdc)/np.multiply(Hs , x_col)\n",
    "#dc = dcf.reshape([nely,nelx], order='F')\n"
   ]
  },
  {
   "cell_type": "code",
   "execution_count": null,
   "metadata": {
    "collapsed": true
   },
   "outputs": [],
   "source": [
    "nely,nelx = 3,3\n",
    "dc = np.random.random([nely,nelx])\n",
    "print(dc)\n",
    "print(dc.sum(0))\n",
    "print((dc.sum(0)).shape)\n",
    "print(dc.sum(1))\n",
    "print((dc.sum(1)).shape)"
   ]
  },
  {
   "cell_type": "code",
   "execution_count": null,
   "metadata": {
    "collapsed": true
   },
   "outputs": [],
   "source": [
    "a = np.ones([3,1])\n",
    "b = np.random.random([3,3])\n",
    "c = b.reshape(9, 'F')\n",
    "print(b)\n",
    "print(c)"
   ]
  },
  {
   "cell_type": "code",
   "execution_count": null,
   "metadata": {
    "collapsed": true
   },
   "outputs": [],
   "source": []
  }
 ],
 "metadata": {
  "kernelspec": {
   "display_name": "Python 3",
   "language": "python",
   "name": "python3"
  },
  "language_info": {
   "codemirror_mode": {
    "name": "ipython",
    "version": 3
   },
   "file_extension": ".py",
   "mimetype": "text/x-python",
   "name": "python",
   "nbconvert_exporter": "python",
   "pygments_lexer": "ipython3",
   "version": "3.6.1"
  }
 },
 "nbformat": 4,
 "nbformat_minor": 2
}
